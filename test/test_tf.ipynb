{
 "cells": [
  {
   "cell_type": "code",
   "execution_count": 1,
   "metadata": {},
   "outputs": [],
   "source": [
    "import sys\n",
    "sys.path.append('/home/lai/Project/gmnet_robot')"
   ]
  },
  {
   "cell_type": "code",
   "execution_count": 2,
   "metadata": {},
   "outputs": [],
   "source": [
    "import numpy as np\n",
    "from matplotlib import pyplot as plt\n",
    "from utils.tf_mapper import TFMapper_EyeInHand\n",
    "from gmnet.dataset.utils.hdf5_manager import HDF5Manage\n",
    "from gmnet.utils.grasp_3d import Grasp3D"
   ]
  },
  {
   "cell_type": "code",
   "execution_count": 3,
   "metadata": {},
   "outputs": [],
   "source": [
    "h5_file = '/home/lai/Project/gmdata/h5-files/mix-dir-20x100.h5'\n",
    "h5 = HDF5Manage(h5_file, mode='r')\n",
    "scene = h5.get_scene_num(370)\n",
    "render = scene.get_render(0)\n",
    "camera = render.camera\n",
    "raw_image = render.image\n",
    "grasp = render.get_grasp(0,0)"
   ]
  },
  {
   "cell_type": "code",
   "execution_count": 4,
   "metadata": {},
   "outputs": [],
   "source": [
    "camera_to_tcp = np.load('/home/lai/Project/gmnet_robot/arm_images/realsense/cam2base.npy')\n",
    "tf = TFMapper_EyeInHand(camera, camera_to_tcp)"
   ]
  },
  {
   "cell_type": "code",
   "execution_count": 12,
   "metadata": {},
   "outputs": [],
   "source": [
    "def grasp_to_3d(g, camera):\n",
    "    p0, p1, d0, d1 = g.endpoints\n",
    "    p0_3d = camera.deproject_world(p0, d0)\n",
    "    p1_3d = camera.deproject_world(p1, d1)\n",
    "    return Grasp3D.from_endpoint(p0_3d, p1_3d)\n",
    "g_3d = grasp_to_3d(grasp, camera)"
   ]
  },
  {
   "cell_type": "code",
   "execution_count": 16,
   "metadata": {},
   "outputs": [],
   "source": [
    "matrix = tf.grasp_to_matrix(*g_3d.endpoints)\n",
    "axis = [[np.eye(4), 'red'], [camera.rt, 'orange'], [matrix, 'blue']]"
   ]
  },
  {
   "cell_type": "code",
   "execution_count": null,
   "metadata": {},
   "outputs": [],
   "source": [
    "scene.show_grasp_world(g_3d, axis)"
   ]
  },
  {
   "cell_type": "code",
   "execution_count": null,
   "metadata": {},
   "outputs": [],
   "source": []
  }
 ],
 "metadata": {
  "kernelspec": {
   "display_name": "Python 3",
   "language": "python",
   "name": "python3"
  },
  "language_info": {
   "codemirror_mode": {
    "name": "ipython",
    "version": 3
   },
   "file_extension": ".py",
   "mimetype": "text/x-python",
   "name": "python",
   "nbconvert_exporter": "python",
   "pygments_lexer": "ipython3",
   "version": "3.7.3"
  }
 },
 "nbformat": 4,
 "nbformat_minor": 2
}
